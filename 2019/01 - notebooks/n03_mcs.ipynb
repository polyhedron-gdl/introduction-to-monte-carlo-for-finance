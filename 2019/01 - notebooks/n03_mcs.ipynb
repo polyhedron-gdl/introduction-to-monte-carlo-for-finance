{
 "cells": [
  {
   "cell_type": "markdown",
   "metadata": {},
   "source": [
    "# Introduction to Monte Carlo Simulation in Finance"
   ]
  },
  {
   "cell_type": "markdown",
   "metadata": {},
   "source": [
    "## Example: A Crude Simulation of a Call Option Price under the Black-Scholes Model"
   ]
  },
  {
   "cell_type": "markdown",
   "metadata": {},
   "source": [
    "Ref.: *Don L. McLeish* **Monte Carlo Simulation and Finance** Wiley"
   ]
  },
  {
   "cell_type": "markdown",
   "metadata": {},
   "source": [
    "<img src=\"img/cover_mcleish.jpg\" width=\"10%\" align=\"left\" border=\"0\">"
   ]
  },
  {
   "cell_type": "code",
   "execution_count": 1,
   "metadata": {
    "collapsed": true
   },
   "outputs": [],
   "source": [
    "%matplotlib inline\n",
    "\n",
    "import numpy as np\n",
    "import scipy as sc\n",
    "\n",
    "from math        import sqrt\n",
    "from scipy.stats import norm as scnorm\n",
    "from pylab       import *\n",
    "from matplotlib  import pyplot as pl\n"
   ]
  },
  {
   "cell_type": "markdown",
   "metadata": {},
   "source": [
    "It's worth to recast the pricing problem into a simple integral formulation in order to gain some insight into the general problem;\n",
    "\\item So let's consider again the payoff of a simple plain vanilla option\n",
    "$$e^{-rT} \\mathbb{E^Q} [ h(S_T) ] = e^{-rT} \\mathbb{E^Q} \\left[ h \\left( S_0 e^{\\log(S_T/S_0)} \\right) \\right]$$\n",
    "\n",
    "By a simple application of Ito's lemma is easy to demonstrate that the variable $X = \\log(S_T/S_0)$ has a normal distribution with mean $m=(r-\\frac{1}{2} \\sigma^2)T$ and variance $s=\\sigma^2T$.\n",
    "\n",
    "So we can write\n",
    "$$ C(S,t)= e^{-rT}\\int\\limits_{-\\infty}^{+\\infty} \\max[S_0e^X-K,0] e^{-\\frac{(X-m)^2}{2s^2}} dX  $$\n",
    "\n",
    "It is possible to generate a normally distributed random variable $X=\\Phi^{-1}(U;(r-\\frac{1}{2} \\sigma^2)T;\\sigma^2T)$ using the inverse transform method, where $\\Phi^{-1}(U;(r-\\frac{1}{2} \\sigma^2)T;\\sigma^2T)$ is the inverse of the normal cumulative distribution function evaluated at $U$, a uniform $[0,1]$ random variable."
   ]
  },
  {
   "cell_type": "markdown",
   "metadata": {},
   "source": [
    "$$U = \\Phi[X;m,u], \\quad u\\rightarrow 1 \\, when \\, X \\rightarrow +\\infty, \\quad u\\rightarrow 0 \\, when \\, X \\rightarrow -\\infty$$\n",
    "\n",
    "has a uniform distribution;\n",
    "\n",
    "From the previous relation we find (within a normalization factor)\n",
    "\n",
    "$$du = \\frac{d\\Phi[X;m,u]}{dX} dX  \\Rightarrow dX = \\frac{1}{e^{-\\frac{(X-m)^2}{2s^2}}}du$$\n",
    "\n",
    "Then the value of the option can be written as an expectation over the distribution of the uniform random variabile $U$:\n",
    "\n",
    "$$\n",
    "C(S,t) = \\int\\limits_0^1 f(u) du$$\n",
    "where $f(u) = e^{-rT} \\max[S_0 \\exp(\\Phi^{-1}(u; m,s)) - K,0] $"
   ]
  },
  {
   "cell_type": "code",
   "execution_count": 2,
   "metadata": {
    "collapsed": true
   },
   "outputs": [],
   "source": [
    "def f(u, S0, K, r, sigma, T):\n",
    "    m      = (r - .5*sigma*sigma)*T\n",
    "    s      = sigma*sqrt(T)\n",
    "    f_u    = exp(-r*T)*np.maximum(S0*exp(scnorm.ppf(u, m, s))-K,0)\n",
    "    return f_u\n",
    "    #\n",
    "    # this is the same code in R language\n",
    "    #\n",
    "    #x = S0*exp(qnorm(u,mean=r*T-sigma^2*T/2,sd=sigma*sqrt(T)))\n",
    "    #v = exp(-r*T) * pmax((x-K),0)"
   ]
  },
  {
   "cell_type": "markdown",
   "metadata": {},
   "source": [
    "where scnorm.ppf is the [inverse of cumulative normal](http://docs.scipy.org/doc/scipy-0.16.0/reference/generated/scipy.stats.norm.html)\n",
    "\n",
    "We recall the Black and Scholes formulas from the pricing of Call and Put Options..."
   ]
  },
  {
   "cell_type": "markdown",
   "metadata": {},
   "source": [
    "$C(S(t)) = S(t)N(d_1)-Ke^{-r(T-t)}N(d_2)$\n",
    "\n",
    "$P(S(t)) = Ke^{-r(T-t)}N(-d_2) - S(t)N(-d_1)$\n",
    "\n",
    "where\n",
    "\n",
    "$d_1=\\frac{\\log(S(t)/K)+(r+\\sigma^2/2}{\\sigma \\sqrt{T}}$ \n",
    "\n",
    "$d_2 = d_1 - \\sigma \\sqrt{T}$"
   ]
  },
  {
   "cell_type": "code",
   "execution_count": 3,
   "metadata": {
    "collapsed": true
   },
   "outputs": [],
   "source": [
    "import numpy as np\n",
    "import scipy.stats as ss\n",
    "import time \n",
    "\n",
    "#Black and Scholes\n",
    "def d1(S0, K, r, sigma, T):\n",
    "    return (np.log(S0/float(K)) + (r + sigma**2 / 2.0) * T)/ float(sigma * np.sqrt(T))\n",
    " \n",
    "def d2(S0, K, r, sigma, T):\n",
    "    return (np.log(S0/float(K)) + (r - sigma**2 / 2.0) * T) / float(sigma * np.sqrt(T))\n",
    " \n",
    "def BlackScholes(payoff, S0, K, r, sigma, T):\n",
    "    if payoff == 1:\n",
    "        return S0 * ss.norm.cdf(d1(S0, K, r, sigma, T)) - K * np.exp(-r * T) * ss.norm.cdf(d2(S0, K, r, sigma, T))\n",
    "    else:\n",
    "        return K * np.exp(-r * T) * ss.norm.cdf(-d2(S0, K, r, sigma, T)) - S0 * ss.norm.cdf(-d1(S0, K, r, sigma, T))\n"
   ]
  },
  {
   "cell_type": "code",
   "execution_count": 4,
   "metadata": {
    "collapsed": false
   },
   "outputs": [
    {
     "data": {
      "image/png": "[encoded data removed]",
      "text/plain": [
       "<matplotlib.figure.Figure at 0x9032b38>"
      ]
     },
     "metadata": {},
     "output_type": "display_data"
    }
   ],
   "source": [
    "S0     = 10\n",
    "K      = 10\n",
    "r      = 0.05\n",
    "T      = 0.25\n",
    "sigma  = 0.2\n",
    "\n",
    "u      = np.linspace(0, 1, 10000)\n",
    "f_u    = f(u,S0,K,r,sigma,T)\n",
    "\n",
    "pl.plot(u, f_u)\n",
    "pl.fill_between(u, f_u, facecolor='yellow', interpolate=True)\n",
    "pl.show()\n"
   ]
  },
  {
   "cell_type": "markdown",
   "metadata": {},
   "source": [
    "### Crude Montecarlo"
   ]
  },
  {
   "cell_type": "code",
   "execution_count": 5,
   "metadata": {
    "collapsed": false
   },
   "outputs": [
    {
     "name": "stdout",
     "output_type": "stream",
     "text": [
      "Montecarlo estimate : 0.461085\n",
      "Analytical result   : 0.461500\n",
      "Difference          : 0.000415\n",
      "Sample Standard Dev : 0.660870\n",
      "Standard Error      : 0.000935\n"
     ]
    }
   ],
   "source": [
    "\n",
    "u      = rand(500000)\n",
    "f_u    = f(u,S0,K,r,sigma,T)\n",
    "mc     = np.mean(f_u)\n",
    "sf     = sqrt(np.var(f_u))\n",
    "se     = sf/sqrt(len(u))\n",
    "bs     = BlackScholes(1,S0,K,r,sigma, T)\n",
    "delta  = abs(mc-bs)\n",
    "\n",
    "print 'Montecarlo estimate : %f'%mc\n",
    "print 'Analytical result   : %f'%bs\n",
    "print 'Difference          : %f'%delta\n",
    "print 'Sample Standard Dev : %f'%sf\n",
    "print 'Standard Error      : %f'%se"
   ]
  },
  {
   "cell_type": "markdown",
   "metadata": {},
   "source": [
    "### Antithetic Random Numbers"
   ]
  },
  {
   "cell_type": "code",
   "execution_count": 6,
   "metadata": {
    "collapsed": false
   },
   "outputs": [
    {
     "name": "stdout",
     "output_type": "stream",
     "text": [
      "Montecarlo estimate : 0.461741\n",
      "Analytical result   : 0.461500\n",
      "Sample Standard Dev : 0.660032\n",
      "Sample Variance     : 0.435642\n",
      "Standard Error      : 0.000660\n"
     ]
    }
   ],
   "source": [
    "u      = rand(1000000)\n",
    "f_u    = f(u,S0,K,r,sigma,T)\n",
    "mc     = np.mean(f_u)\n",
    "sf     = sqrt(np.var(f_u))\n",
    "var_cm = np.var(f_u)\n",
    "se_cm  = sf/sqrt(len(u))\n",
    "bs     = BlackScholes(1,S0,K,r,sigma, T)\n",
    "\n",
    "print 'Montecarlo estimate : %f'%mc\n",
    "print 'Analytical result   : %f'%bs\n",
    "print 'Sample Standard Dev : %f'%sf\n",
    "print 'Sample Variance     : %f'%var_cm\n",
    "print 'Standard Error      : %f'%se_cm"
   ]
  },
  {
   "cell_type": "code",
   "execution_count": 7,
   "metadata": {
    "collapsed": false
   },
   "outputs": [
    {
     "name": "stdout",
     "output_type": "stream",
     "text": [
      "Montecarlo estimate : 0.461194\n",
      "Analytical result   : 0.461500\n",
      "Sample Standard Dev : 0.333923\n",
      "Sample Variance     : 0.111505\n",
      "Standard Error      : 0.000472\n",
      "Efficiency Gain     : 3.906936\n"
     ]
    }
   ],
   "source": [
    "u      = rand(500000)\n",
    "f_u    = .5*(f(u,S0,K,r,sigma,T) + f(1-u,S0,K,r,sigma,T))\n",
    "mc     = mean(f_u)\n",
    "sf     = sqrt(np.var(f_u))\n",
    "var_an = np.var(f_u)\n",
    "se     = sf/sqrt(len(u))\n",
    "bs     = BlackScholes(1,S0,K,r,sigma, T)\n",
    "\n",
    "print 'Montecarlo estimate : %f'%mc\n",
    "print 'Analytical result   : %f'%bs\n",
    "print 'Sample Standard Dev : %f'%sf\n",
    "print 'Sample Variance     : %f'%var_an\n",
    "print 'Standard Error      : %f'%se\n",
    "\n",
    "print 'Efficiency Gain     : %f'%(var_cm/var_an)"
   ]
  },
  {
   "cell_type": "markdown",
   "metadata": {},
   "source": [
    "### Stratified Sampling"
   ]
  },
  {
   "cell_type": "code",
   "execution_count": 8,
   "metadata": {
    "collapsed": false
   },
   "outputs": [
    {
     "name": "stdout",
     "output_type": "stream",
     "text": [
      "Montecarlo estimate : 0.462024\n",
      "Analytical result   : 0.461500\n",
      "Sample Standard Dev : 0.292176\n",
      "Sample Variance     : 0.085367\n",
      "Standard Error      : 0.000413\n",
      "Efficiency Gain     : 5.103191\n"
     ]
    }
   ],
   "source": [
    "a      = 0.7\n",
    "f_u    = a*f(a*u,S0,K,r,sigma,T) + (1-a)*f(a+(1-a)*u,S0,K,r,sigma,T) \n",
    "mc     = mean(f_u)\n",
    "sf     = sqrt(np.var(f_u))\n",
    "var    = np.var(f_u)\n",
    "se     = sf/sqrt(len(u))\n",
    "bs     = BlackScholes(1,S0,K,r,sigma, T)\n",
    "\n",
    "print 'Montecarlo estimate : %f'%mc\n",
    "print 'Analytical result   : %f'%bs\n",
    "print 'Sample Standard Dev : %f'%sf\n",
    "print 'Sample Variance     : %f'%var\n",
    "print 'Standard Error      : %f'%se\n",
    "\n",
    "print 'Efficiency Gain     : %f'%(var_cm/var)"
   ]
  },
  {
   "cell_type": "markdown",
   "metadata": {},
   "source": [
    "### Control Variates"
   ]
  },
  {
   "cell_type": "code",
   "execution_count": 9,
   "metadata": {
    "collapsed": false
   },
   "outputs": [
    {
     "data": {
      "image/png": "[encoded data removed]",
      "text/plain": [
       "<matplotlib.figure.Figure at 0x107ff7790>"
      ]
     },
     "metadata": {},
     "output_type": "display_data"
    }
   ],
   "source": [
    "def g(u):\n",
    "    return 6*(np.maximum(u-0.47,0))**2 + np.maximum(u-0.47,0)\n",
    "\n",
    "\n",
    "S0     = 10\n",
    "K      = 10\n",
    "r      = 0.05\n",
    "T      = 0.25\n",
    "sigma  = 0.2\n",
    "\n",
    "u      = np.linspace(0, 1, 10000)\n",
    "f_u    = f(u,S0,K,r,sigma,T)\n",
    "g_u    = g(u)\n",
    "plot(u, f_u)\n",
    "plot(u, g_u, color='red')\n",
    "pl.show()\n"
   ]
  },
  {
   "cell_type": "code",
   "execution_count": 10,
   "metadata": {
    "collapsed": false
   },
   "outputs": [
    {
     "name": "stdout",
     "output_type": "stream",
     "text": [
      "Montecarlo estimate : 0.461751\n",
      "Analytical result   : 0.461500\n",
      "Efficiency gain     : 30.011948\n"
     ]
    }
   ],
   "source": [
    "u      = rand(500000)\n",
    "f_u    = f(u,S0,K,r,sigma,T)\n",
    "g_u    = g(u)\n",
    "intg   = 2*(0.53)**3 + 0.5*(0.53)**2\n",
    "mc     = intg + np.mean(f_u - g_u)\n",
    "var_1  = np.var(f_u)\n",
    "var_2  = np.var(f_u-g_u)\n",
    "bs     = BlackScholes(1,S0,K,r,sigma, T)\n",
    "\n",
    "print 'Montecarlo estimate : %f'%mc\n",
    "print 'Analytical result   : %f'%bs\n",
    "print 'Efficiency gain     : %f'%(var_1/var_2)"
   ]
  }
 ],
 "metadata": {
  "kernelspec": {
   "display_name": "Python 2",
   "language": "python",
   "name": "python2"
  },
  "language_info": {
   "codemirror_mode": {
    "name": "ipython",
    "version": 2
   },
   "file_extension": ".py",
   "mimetype": "text/x-python",
   "name": "python",
   "nbconvert_exporter": "python",
   "pygments_lexer": "ipython2",
   "version": "2.7.13"
  }
 },
 "nbformat": 4,
 "nbformat_minor": 0
}
