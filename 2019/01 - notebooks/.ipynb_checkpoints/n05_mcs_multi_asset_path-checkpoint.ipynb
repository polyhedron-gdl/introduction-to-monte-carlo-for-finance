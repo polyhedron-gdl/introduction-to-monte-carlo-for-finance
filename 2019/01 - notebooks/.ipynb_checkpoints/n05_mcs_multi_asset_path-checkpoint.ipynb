{
 "cells": [
  {
   "cell_type": "markdown",
   "metadata": {},
   "source": [
    "### Introduction to Monte Carlo Simulation in Finance\n",
    "# Multiasset Simulation\n",
    "\n",
    "## Cholesky Decomposition\n",
    "\n",
    "The **Choleski Decomposition** makes an appearance in Monte Carlo Methods where it is used to simulating systems with correlated variables.  Cholesky decomposition is applied to the correlation matrix, providing a lower triangular matrix $A$, which when applied to a vector of uncorrelated samples, $u$, produces the covariance vector of the system. Thus it is highly relevant for quantitative trading.\n",
    "\n",
    "The standard procedure for generating a set of correlated normal random variables is through a linear combination of uncorrelated normal random variables;\n",
    "Assume we have a set of $n$ independent standard normal random variables $Z$ and we want to build a set of $n$ correlated standard normals $Z^\\prime$ with correlation matrix $\\Sigma$\n",
    "$$\n",
    "Z^\\prime = AZ, \\quad \\quad AA^t = \\Sigma\n",
    "$$\n",
    "\n",
    "We can find a solution for $A$ in the form of a triangular matrix\n",
    "$$\n",
    "\\begin{pmatrix} \n",
    "A_{11} & 0 & \\dots & 0  \\\\ \n",
    "A_{21} & A_{22} & \\dots & 0  \\\\ \n",
    "\\vdots & \\vdots & \\ddots & \\dots  \\\\ \n",
    "A_{n1} & A_{n2} & \\dots & A_{nn}   \n",
    "\\end{pmatrix}\n",
    "$$\n",
    "\n",
    "**diagonal elements**\n",
    "$$\n",
    "a_{ii} = \\sqrt{\\Sigma_{ii} - \\sum\\limits_{k=1}^{i-1} a_{ik}^2}\n",
    "$$\n",
    "\n",
    "**off-diagonal elements**\n",
    "$$\n",
    "a_{ij} = \\frac{1}{a_{ii}} \\left( \\Sigma_{ij} - \\sum\\limits_{k=1}^{i-1} a_{ik} a_{jk} \\right)\n",
    "$$\n",
    "\n",
    "Using Python, the most efficient method in both development and execution time is to make use of the NumPy/SciPy linear algebra (linalg) library, which has a built in method cholesky to decompose a matrix. The optional lower parameter allows us to determine whether a lower or upper triangular matrix is produced: "
   ]
  },
  {
   "cell_type": "code",
   "execution_count": null,
   "metadata": {
    "collapsed": false
   },
   "outputs": [],
   "source": [
    "import pprint\n",
    "import scipy\n",
    "import scipy.linalg   # SciPy Linear Algebra Library\n",
    "\n",
    "A = scipy.array([[6, 3, 4, 8], [3, 6, 5, 1], [4, 5, 10, 7], [8, 1, 7, 25]])\n",
    "L = scipy.linalg.cholesky(A, lower=True)\n",
    "U = scipy.linalg.cholesky(A, lower=False)\n",
    "\n",
    "print \"A:\"\n",
    "pprint.pprint(A)\n",
    "\n",
    "print \"L:\"\n",
    "pprint.pprint(L)\n",
    "\n",
    "print \"U:\"\n",
    "pprint.pprint(U)"
   ]
  },
  {
   "cell_type": "markdown",
   "metadata": {},
   "source": [
    "For example, for a two-dimension random vector we have simply\n",
    "$$\n",
    "A=\n",
    "\\begin{pmatrix} \n",
    "\\sigma_1        & 0   \\\\ \n",
    "\\sigma_2 \\rho & \\sigma_2 \\sqrt{1-\\rho^2}   \n",
    "\\end{pmatrix}\n",
    "$$\n",
    "\n",
    "Say one needs to generate two correlated normal variables $x_1$ and $x_2$. All one needs to do is to generate two uncorrelated Gaussian random variables $z_1$ and$ z_2$ and set\n",
    "$$\n",
    "x_1 = z_1 \n",
    "$$\n",
    "\n",
    "$$\n",
    "x_2 =  \\rho z_1 + \\sqrt{1-\\rho^2} z_2\n",
    "$$\n",
    "\n",
    "In Python everything you need is available in the *numpy* library, as we can see in the next example."
   ]
  },
  {
   "cell_type": "code",
   "execution_count": null,
   "metadata": {
    "collapsed": false
   },
   "outputs": [],
   "source": [
    "%matplotlib inline\n",
    "\n",
    "import numpy as np\n",
    "import scipy as sc\n",
    "\n",
    "from math        import sqrt\n",
    "from scipy.stats import norm as scnorm\n",
    "from pylab       import *\n",
    "from matplotlib  import pyplot as pl\n",
    "\n",
    "xx = np.array([-0.51, 51.2])\n",
    "yy = np.array([0.33, 51.6])\n",
    "means = [xx.mean(), yy.mean()]  \n",
    "stds  = [xx.std()  , yy.std() ]\n",
    "corr  = 0.75      # correlation\n",
    "covs  = [[stds[0]**2          , stds[0]*stds[1]*corr], \n",
    "        [stds[0]*stds[1]*corr,           stds[1]**2]] \n",
    "\n",
    "m = np.random.multivariate_normal(means, covs, 1000).T\n",
    "scatter(m[0], m[1])"
   ]
  },
  {
   "cell_type": "markdown",
   "metadata": {},
   "source": [
    "## Brownian simulation of correlated assets\n",
    "\n",
    "When using Monte Carlo methods to price options dependent on a basket of underlying assets (multidimensional stochastic simulations), the correlations between assets should be considered. Here I will show an example of how this can be simulated using pandas. \n",
    "\n",
    "Download and prepare the data. First we have downloaded some data from Yahoo producing a csv file ('ts_baket_2.csv') which we can read with the function 'read_csv' from pandas."
   ]
  },
  {
   "cell_type": "code",
   "execution_count": null,
   "metadata": {
    "collapsed": false
   },
   "outputs": [],
   "source": [
    "import warnings; warnings.simplefilter('ignore')\n",
    "\n",
    "import pandas as pd\n",
    "from pandas import Panel, DataFrame\n",
    "\n",
    "panel_data = pd.read_csv(\"./data/ts_basket_2.csv\", sep=\";\")\n",
    "panel_data.tail()\n",
    "closing = panel_data"
   ]
  },
  {
   "cell_type": "markdown",
   "metadata": {},
   "source": [
    "Now we can calculate the log returns:"
   ]
  },
  {
   "cell_type": "code",
   "execution_count": null,
   "metadata": {
    "collapsed": false
   },
   "outputs": [],
   "source": [
    "rets = log(closing / closing.shift(1)).dropna()\n",
    "rets.tail()"
   ]
  },
  {
   "cell_type": "markdown",
   "metadata": {},
   "source": [
    "The correlation matrix has information about the historical correlations between stocks in the group. We work under the assumption that this quantity is conserved, so the generated stocks will need to satisfy this condition:"
   ]
  },
  {
   "cell_type": "code",
   "execution_count": null,
   "metadata": {
    "collapsed": false
   },
   "outputs": [],
   "source": [
    "corr_matrix = rets.corr()\n",
    "corr_matrix"
   ]
  },
  {
   "cell_type": "markdown",
   "metadata": {},
   "source": [
    "So the most correlated assets are NASDAQ and DOW_JONES. Pandas has a nice utility to plot the correlations:"
   ]
  },
  {
   "cell_type": "code",
   "execution_count": null,
   "metadata": {
    "collapsed": false
   },
   "outputs": [],
   "source": [
    "from pandas.tools.plotting import scatter_matrix\n",
    "\n",
    "scatter_matrix(rets, figsize=(8,8));"
   ]
  },
  {
   "cell_type": "markdown",
   "metadata": {},
   "source": [
    "### Simulation\n",
    "\n",
    "The simulation procedure for generating random variables will go like this:\n",
    "\n",
    "1. Calculate the Cholesky Decomposition matrix, this step will return an upper triangular matrix  $L^T$.\n",
    "2. Generate random vector  $X \\sim N(0,1)$.\n",
    "3. Obtain a correlated random vector  $Z=XL^T$.\n",
    "\n",
    "As we have previously seen the Cholesky decomposition of the correlation matrix corr_matrix is impemented in scipy:"
   ]
  },
  {
   "cell_type": "code",
   "execution_count": null,
   "metadata": {
    "collapsed": false
   },
   "outputs": [],
   "source": [
    "from scipy.linalg import cholesky\n",
    "\n",
    "upper_cholesky = cholesky(corr_matrix, lower=False)\n",
    "upper_cholesky"
   ]
  },
  {
   "cell_type": "markdown",
   "metadata": {},
   "source": [
    "We set up the parameters for the simulation:"
   ]
  },
  {
   "cell_type": "code",
   "execution_count": null,
   "metadata": {
    "collapsed": false
   },
   "outputs": [],
   "source": [
    "import numpy as np \n",
    "from pandas import bdate_range   # business days\n",
    "\n",
    "n_days   = 21\n",
    "dates    = bdate_range(start=closing.iloc[-1].name, periods=n_days)\n",
    "n_assets = 4\n",
    "n_sims   = 1000\n",
    "dt       = 1./252\n",
    "mu       = rets.mean().values\n",
    "sigma    = rets.std().values*sqrt(252)\n",
    "\n",
    "np.random.seed(1234)            # init random number generator for reproducibility"
   ]
  },
  {
   "cell_type": "markdown",
   "metadata": {},
   "source": [
    "Now we generate the correlated random values $X$:"
   ]
  },
  {
   "cell_type": "code",
   "execution_count": null,
   "metadata": {
    "collapsed": false
   },
   "outputs": [],
   "source": [
    "rand_values = np.random.standard_normal(size = (n_days * n_sims, n_assets)) #\n",
    "corr_values = rand_values.dot(upper_cholesky)*sigma\n",
    "corr_values"
   ]
  },
  {
   "cell_type": "markdown",
   "metadata": {},
   "source": [
    "With everything set up we can start iterating through the time interval. The results for each specific time are saved along the third axis of a pandas Panel."
   ]
  },
  {
   "cell_type": "code",
   "execution_count": null,
   "metadata": {
    "collapsed": false
   },
   "outputs": [],
   "source": [
    "nAsset = 4\n",
    "symbols = ['ENEL.MI', 'DOW_JONES', 'NASDAQ', 'NIKKEY225']\n",
    "prices = Panel(items=range(n_sims), minor_axis=symbols, major_axis=dates)\n",
    "\n",
    "prices.iloc[:, 0, :] =closing.iloc[1].values.repeat(n_sims).reshape(nAsset, n_sims).T\n",
    "\n",
    "for i in range(1,n_days):\n",
    "    prices.iloc[:, i, :] = prices.iloc[:, i-1,:] * (exp((mu-0.5*sigma**2)*dt +  sqrt(dt)*corr_values[i::n_days])).T    \n",
    "\n",
    "prices.iloc[123, :, :].head()   # show random path"
   ]
  },
  {
   "cell_type": "markdown",
   "metadata": {},
   "source": [
    "And thats all! Now it is time to check our results. First a plot of all random paths."
   ]
  },
  {
   "cell_type": "code",
   "execution_count": null,
   "metadata": {
    "collapsed": false
   },
   "outputs": [],
   "source": [
    "prices.loc[::10, :, 'ENEL.MI'].plot(title='ENEL.MI', legend=False);"
   ]
  },
  {
   "cell_type": "code",
   "execution_count": null,
   "metadata": {
    "collapsed": false
   },
   "outputs": [],
   "source": [
    "prices.loc[::10, :, 'DOW_JONES'].plot(title='DOW_JONES', legend=False);"
   ]
  },
  {
   "cell_type": "code",
   "execution_count": null,
   "metadata": {
    "collapsed": false
   },
   "outputs": [],
   "source": [
    "prices.loc[::10, :, 'NASDAQ'].plot(title='NASDAQ', legend=False);"
   ]
  },
  {
   "cell_type": "code",
   "execution_count": null,
   "metadata": {
    "collapsed": false
   },
   "outputs": [],
   "source": [
    "prices.loc[::10, :, 'NIKKEY225'].plot(title='NIKKEY225', legend=False);"
   ]
  },
  {
   "cell_type": "markdown",
   "metadata": {},
   "source": [
    "We can take a look at the statistics for the last day:"
   ]
  },
  {
   "cell_type": "code",
   "execution_count": null,
   "metadata": {
    "collapsed": false
   },
   "outputs": [],
   "source": [
    "prices.iloc[:, -1, :].T.describe()"
   ]
  }
 ],
 "metadata": {
  "kernelspec": {
   "display_name": "Python 2",
   "language": "python",
   "name": "python2"
  },
  "language_info": {
   "codemirror_mode": {
    "name": "ipython",
    "version": 2
   },
   "file_extension": ".py",
   "mimetype": "text/x-python",
   "name": "python",
   "nbconvert_exporter": "python",
   "pygments_lexer": "ipython2",
   "version": "2.7.10"
  }
 },
 "nbformat": 4,
 "nbformat_minor": 0
}
