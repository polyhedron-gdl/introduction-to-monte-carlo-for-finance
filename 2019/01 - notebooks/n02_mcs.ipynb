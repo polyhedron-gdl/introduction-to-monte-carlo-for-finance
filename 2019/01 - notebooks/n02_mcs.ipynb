{
 "cells": [
  {
   "cell_type": "markdown",
   "metadata": {},
   "source": [
    "# Introduction to Monte Carlo Simulation in Finance"
   ]
  },
  {
   "cell_type": "markdown",
   "metadata": {},
   "source": [
    "## Bootstrap approximation of Pi"
   ]
  },
  {
   "cell_type": "code",
   "execution_count": 5,
   "metadata": {
    "collapsed": false
   },
   "outputs": [
    {
     "data": {
      "image/png": "[encoded data removed]",
      "text/plain": [
       "Plot with title \"Bootstrap approximation of pi\n",
       "using 1000 random samples, \n",
       "                   pi = 3.16400\""
      ]
     },
     "metadata": {},
     "output_type": "display_data"
    }
   ],
   "source": [
    "options(repr.plot.width=5, repr.plot.height=5)\n",
    "par(mfrow=c(1, 1))\n",
    "\n",
    "n <- 1000\n",
    "x <- runif(n)\n",
    "y <- runif(n)\n",
    "inside <- x^2 + y^2 <= 1\n",
    "pi <- 4*sum(inside) / n\n",
    "\n",
    "plot(x,y,\n",
    "     col=ifelse(inside,'blue','red'), cex=0.5, pch='.',\n",
    "     main=sprintf(\"Bootstrap approximation of pi\\nusing %s random samples, \n",
    "                   pi = %1.5f\",n,pi)\n",
    "    )"
   ]
  },
  {
   "cell_type": "code",
   "execution_count": null,
   "metadata": {
    "collapsed": true
   },
   "outputs": [],
   "source": []
  }
 ],
 "metadata": {
  "kernelspec": {
   "display_name": "R",
   "language": "R",
   "name": "ir"
  },
  "language_info": {
   "codemirror_mode": "r",
   "file_extension": ".r",
   "mimetype": "text/x-r-source",
   "name": "R",
   "pygments_lexer": "r",
   "version": "3.3.2"
  }
 },
 "nbformat": 4,
 "nbformat_minor": 0
}
