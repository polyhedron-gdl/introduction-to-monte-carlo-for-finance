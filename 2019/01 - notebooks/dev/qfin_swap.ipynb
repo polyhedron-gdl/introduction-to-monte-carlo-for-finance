{
 "cells": [
  {
   "cell_type": "code",
   "execution_count": 13,
   "metadata": {
    "collapsed": true
   },
   "outputs": [],
   "source": [
    "def extends(klass):\n",
    "    def decorator(func):\n",
    "        setattr(klass, func.__name__, func)\n",
    "        return func\n",
    "    return decorator"
   ]
  },
  {
   "cell_type": "markdown",
   "metadata": {},
   "source": [
    "### IR Stream Class"
   ]
  },
  {
   "cell_type": "code",
   "execution_count": 14,
   "metadata": {
    "collapsed": false
   },
   "outputs": [],
   "source": [
    "from enum import Enum\n",
    "\n",
    "class flow_type(Enum):\n",
    "    fixed       = \"fixed\"\n",
    "    floating    = \"floating\"\n",
    "    notional    = \"notional\"\n",
    "\n",
    "class flow(object):\n",
    "    def __init__(self\n",
    "             , this_type\n",
    "             , index                    #None for fixed flows \n",
    "             , leverage\n",
    "             , coupon                   #the margin in case of a floating flow\n",
    "             , payment_date\n",
    "             , fixing_date        \n",
    "             , start_date\n",
    "             , end_date\n",
    "             , notional                 # the notional on which the flow amount is computed\n",
    "             , daycount_convention\n",
    "             ):\n",
    "        self.__type                     = this_type\n",
    "        self.__index                    = index\n",
    "        self.__leverage                 = leverage\n",
    "        self.__coupon                   = coupon\n",
    "        self.__payment_date             = payment_date\n",
    "        self.__fixing_date              = fixing_date\n",
    "        self.__start_date               = start_date\n",
    "        self.__end_date                 = end_date\n",
    "        self.__notional                 = notional\n",
    "        self.__daycount_convention      = daycount_convention\n",
    " \n",
    "        if self.__type == flow_type.fixed:\n",
    "            year_fraction = YearFractionFactory.create_istance(self.__daycount_convention)\n",
    "        if self.__type == flow_type.floating:\n",
    "            year_fraction = YearFractionFactory.create_istance(self.__index.daycount_convention())\n",
    "        if self.__type == flow_type.notional:\n",
    "            year_fraction = YearFractionFactory.create_istance(day_count_basis.basis_lin_30360)    \n",
    "        self.__tau = year_fraction(self.__start_date, self.__end_date)\n",
    "        self.__npv  = 0.0\n",
    "    \n",
    "    def index(self):                    return self.__index\n",
    "    def fixing_date(self):              return self.__fixing_date\n",
    "    def payment_date(self):             return self.__payment_date\n",
    "    def this_type(self):                return self.__type\n",
    "    def leverage(self):                 return self.__leverage\n",
    "    def start_date(self):               return self.__start_date\n",
    "    def end_date(self):                 return self.__end_date\n",
    "    def tau(self):                      return self.__tau\n",
    "    def notional(self):                 return self.__notional\n",
    "    \n",
    "    def value(self, obsdate, fixed):\n",
    "        if self.__type == flow_type.notional:\n",
    "            return self.__importo\n",
    "        else:    \n",
    "            return self.__notional * self.__tau * self.rate(obsdate, fixed)\n",
    "    \n",
    "    def rate(self, obsdate, fixed = None):\n",
    "        try:\n",
    "            table = fixed[self.__index.label()]\n",
    "        except:                \n",
    "            table = None\n",
    "        \n",
    "        floater, coupon  = 0, 0\n",
    "        if self.__index:\n",
    "            if self.__fixing_date > obsdate:\n",
    "                floater = self.__index.forward(self.__fixing_date)\n",
    "            else:\n",
    "                if self.__fixing_date == obsdate and not fixed:\n",
    "                    floater = self.__index.forward(self.__fixing_date)\n",
    "                else:\n",
    "                    if table:\n",
    "                        floater = table(self.__fixing_date)\n",
    "                    else:\n",
    "                        floater = 0.0       \n",
    "        else:\n",
    "            coupon = self.__coupon   \n",
    "        return self.__leverage * floater + coupon \n"
   ]
  },
  {
   "cell_type": "markdown",
   "metadata": {},
   "source": [
    "### Leg Class"
   ]
  },
  {
   "cell_type": "markdown",
   "metadata": {},
   "source": [
    "to do"
   ]
  },
  {
   "cell_type": "code",
   "execution_count": 15,
   "metadata": {
    "collapsed": true
   },
   "outputs": [],
   "source": [
    "class leg(object):\n",
    "    def __init__(self\n",
    "                , flows\n",
    "                , pay_or_receive\n",
    "                , currency\n",
    "                , payment_frequency     = None\n",
    "                , calculation_frequency = None\n",
    "                , payoff                = None\n",
    "               ):\n",
    "        \n",
    "        self.__flows                    = flows\n",
    "        self.__pay_or_receive           = pay_or_receive\n",
    "        self.__currency                 = currency\n",
    "        self.__payment_frequency        = payment_frequency\n",
    "        self.__calculation_frequency    = calculation_frequency\n",
    "        self.__payoff                   = payoff\n",
    "       \n",
    "    def flow(self, index):              return self.__flows[index]\n",
    "    def flows(self):                    return self.__flows\n",
    "    def pay_receive(self):              return self.__pay_or_receive\n",
    "    def has_payoff(self):               return self.__payoff <> None\n",
    "    def currency(self):                 return self.__currency\n",
    "    \n",
    "    def flowsCount(self):\n",
    "        return len(self.__flows)    \n",
    "\n",
    "    def payoff(self):\n",
    "        if self.__payoff == None:\n",
    "            raise RuntimeError, \"Null payoff\"\n",
    "        return self.__payoff\n"
   ]
  },
  {
   "cell_type": "markdown",
   "metadata": {},
   "source": [
    "### Swap Class"
   ]
  },
  {
   "cell_type": "code",
   "execution_count": 16,
   "metadata": {
    "collapsed": false
   },
   "outputs": [],
   "source": [
    "class Swap():\n",
    "    def __init__(self, \n",
    "                 today, \n",
    "                 underlying, \n",
    "                 maturity, \n",
    "                 coupon, \n",
    "                 notional = 1000000, \n",
    "                 pay_fix = +1, \n",
    "                 pay_float = -1, \n",
    "                 float_tenor = '6m', \n",
    "                 fixed_tenor='1y', \n",
    "                 floatscheduler = None, \n",
    "                 fixscheduler = None):\n",
    "        \n",
    "        if floatscheduler == None:\n",
    "            self.__floatscheduler = SimpleScheduler(fixing_lag = 2, \n",
    "                                                    tenor = float_tenor, \n",
    "                                                    dayadjustment = AdjustmentType.MODFOLLOWING, \n",
    "                                                    daycount = day_count_basis.basis_lin_act_360)\n",
    "        else:\n",
    "            self.__floatscheduler = floatscheduler\n",
    "        if fixscheduler == None:\n",
    "            self.__fixscheduler = SimpleScheduler(fixing_lag =2, \n",
    "                                                  tenor = fixed_tenor, \n",
    "                                                  dayadjustment = AdjustmentType.MODFOLLOWING, \n",
    "                                                  daycount = day_count_basis.basis_lin_s30360)\n",
    "        else:\n",
    "            self.__fixscheduler = fixscheduler\n",
    "        \n",
    "        floatscheduler      = self.__floatscheduler\n",
    "        fixscheduler        = self.__fixscheduler\n",
    "        \n",
    "        floatstartdate      = floatscheduler.scheduleDate(today)\n",
    "        floatdates          = floatscheduler.scheduleDates(floatstartdate, maturity)\n",
    "        floatstartdates     = floatdates[0:len(floatdates)-1]\n",
    "        floatenddates       = floatdates[1:len(floatdates)]\n",
    "        floatfixingdates    = []\n",
    "        \n",
    "        for startflowdate in floatstartdates:\n",
    "            floatfixingdates.append(floatscheduler.fixingDate(startflowdate))\n",
    "        floatpaymentdates = floatenddates\n",
    "\n",
    "        fixstartdate    = fixscheduler.scheduleDate(today)\n",
    "        fixdates        = fixscheduler.scheduleDates(fixstartdate, maturity)\n",
    "        fixstartdates   = fixdates[0:len(fixdates)-1]\n",
    "        fixenddates     = fixdates[1:len(fixdates)]\n",
    "        fixpaymentdates = fixenddates\n",
    "        \n",
    "        floatflows = []\n",
    "        for i in range(len(floatstartdates)):\n",
    "            f = flow(this_type              = flow_type.floating\n",
    "                    , index                 = underlying \n",
    "                    , leverage              = 1.\n",
    "                    , coupon                = 0.\n",
    "                    , payment_date          = floatpaymentdates[i]\n",
    "                    , fixing_date           = floatfixingdates[i]        \n",
    "                    , start_date            = floatstartdates[i]\n",
    "                    , end_date              = floatenddates[i]\n",
    "                    , notional              = notional\n",
    "                    , daycount_convention   = day_count_basis.basis_lin_act_360\n",
    "                    )\n",
    "            floatflows.append(f)\n",
    "\n",
    "        fixflows = []\n",
    "        for i in range(len(fixstartdates)):\n",
    "            f = flow(this_type              = flow_type.fixed\n",
    "                    , index                 = None \n",
    "                    , leverage              = 1.\n",
    "                    , coupon                = coupon\n",
    "                    , payment_date          = fixpaymentdates[i]\n",
    "                    , fixing_date           = None        \n",
    "                    , start_date            = fixstartdates[i]\n",
    "                    , end_date              = fixenddates[i]\n",
    "                    , notional              = notional\n",
    "                    , daycount_convention   = day_count_basis.basis_lin_30360\n",
    "                    )\n",
    "            fixflows.append(f)\n",
    "        \n",
    "        floatleg    = leg(floatflows, pay_float, None)\n",
    "        fixleg      = leg(fixflows, pay_fix, None)\n",
    "      \n",
    "        self.__leg_1 = floatleg\n",
    "        self.__leg_2 = fixleg\n",
    "        return None\n",
    "       \n",
    "    def legs(self):\n",
    "        return self.__leg_1, self.__leg_2   \n",
    "    \n"
   ]
  },
  {
   "cell_type": "markdown",
   "metadata": {},
   "source": [
    "## TODO [Add description of price function]"
   ]
  },
  {
   "cell_type": "code",
   "execution_count": 17,
   "metadata": {
    "collapsed": false
   },
   "outputs": [],
   "source": [
    "@extends(Swap)\n",
    "\n",
    "def price(self, fixed, discount_curve, evaluation_date = None):\n",
    "    res             = {}\n",
    "    flows           = []\n",
    "    npv, annuity    = 0.0, 0.0\n",
    "    legvalue        = [0, 0] \n",
    "    j, k            = 0, 0\n",
    "    try:\n",
    "        dc       = discount_curve\n",
    "        df       = dc.df\n",
    "        obsdate  = evaluation_date\n",
    "        if obsdate == None: obsdate  = dc.obsdate()      \n",
    "        k = 0\n",
    "        for l in self.legs():\n",
    "            leg_npv, f_value, j = 0.0, 0.0, 0\n",
    "            for f in l.flows():\n",
    "                flow  = {}\n",
    "                payment_date = f.payment_date()\n",
    "                #print '-----> leg #%s (%s)- flow #%s, date %s - obs date %s'%(k, str(f.this_type()), str(j), payment_date, obsdate)\n",
    "                if payment_date > obsdate:\n",
    "                    f_discf = df(payment_date)\n",
    "                    f_flow  = f.value(obsdate, fixed)    \n",
    "                    f_value = f_discf * f_flow * f.leverage()    \n",
    "                    leg_npv += f_value\n",
    "                    if f.index() == None: annuity += f_discf * f.tau() * f.notional()\n",
    "                    \n",
    "                    #print '-----> discount %s - flow %s'%(f_discf, f_flow)\n",
    "                    \n",
    "                    j+=1\n",
    "                    flow['leg']          = k    \n",
    "                    flow['payment date'] = payment_date\n",
    "                    flow['start date']   = f.start_date()\n",
    "                    flow['end date']     = f.end_date()\n",
    "                    flow['fixing date']  = f.fixing_date()\n",
    "                    flow['flow']         = f_flow\n",
    "                    flow['npv']          = f_value\n",
    "                    flow['discount']     = f_discf\n",
    "                    flows.append(flow)\n",
    "                        \n",
    "            legvalue[k] = l.pay_receive() * leg_npv\n",
    "            npv += legvalue[k]\n",
    "            k+=1\n",
    "\n",
    "    except Exception, e:\n",
    "        print '-----> ERRORE - Flusso %s - Leg %s - Error %s' % (str(j), str(k), e.__str__())\n",
    "            \n",
    "    finally:    \n",
    "        res['npv']      = npv\n",
    "        res['legs']     = legvalue\n",
    "        res['flows']    = flows    \n",
    "        res['annuity']  = annuity\n",
    "            \n",
    "    return res"
   ]
  },
  {
   "cell_type": "markdown",
   "metadata": {},
   "source": [
    "## Example"
   ]
  },
  {
   "cell_type": "code",
   "execution_count": 18,
   "metadata": {
    "collapsed": false
   },
   "outputs": [],
   "source": [
    "import re\n",
    "import datetime\n",
    "\n",
    "from qfin_calendar    import *\n",
    "from qfin_ir_classes  import *\n",
    "from qfin_pocket      import *\n",
    "from test_market_data import *"
   ]
  },
  {
   "cell_type": "code",
   "execution_count": 19,
   "metadata": {
    "collapsed": true
   },
   "outputs": [],
   "source": [
    "from math import sqrt, exp, log, pi, sqrt\n",
    "\n",
    "def norm_cdf(x):\n",
    "    \"\"\"An approximation to the cumulative distribution function for the standard normal distribution:\n",
    "    N(x) = \\frac{1}{sqrt(2*\\pi)} \\int^x_{-\\infty} e^{-\\frac{1}{2}s^2} ds\"\"\"\n",
    "    k = 1.0/(1.0+0.2316419*x)\n",
    "    k_sum = k*(0.319381530 + k*(-0.356563782 + k*(1.781477937 + k*(-1.821255978 + 1.330274429*k))))\n",
    "   \n",
    "    if x >= 0.0:\n",
    "        return (1.0 - (1.0/((2*pi)**0.5))*exp(-0.5*x*x) * k_sum)\n",
    "    else:\n",
    "        return 1.0 - norm_cdf(-x)\n",
    "    \n",
    "def d_j(j, S, K, r, v, T):\n",
    "    \"\"\"d_j = \\frac{log(\\frac{S}{K})+(r+(-1)^{j-1} \\frac{1}{2}v^2)T}{v sqrt(T)}\"\"\"\n",
    "    return (log(S/K) + (r + ((-1)**(j-1))*0.5*v*v)*T)/(v*(T**0.5))\n"
   ]
  },
  {
   "cell_type": "code",
   "execution_count": 20,
   "metadata": {
    "collapsed": true
   },
   "outputs": [],
   "source": [
    "# example data\n",
    "today           = datetime.date(2014,10,24)\n",
    "spot_rate       = 0.02   # starting value for short rate\n",
    "\n",
    "swap_maturity   = '5y'\n",
    "swap_strike     = 0.2\n",
    "swap_flt_tenor  = '6m'\n",
    "swap_fix_tenor  = '6m'"
   ]
  },
  {
   "cell_type": "code",
   "execution_count": 21,
   "metadata": {
    "collapsed": false
   },
   "outputs": [],
   "source": [
    "fardate         = today + addTimeInterval(10, 'y')\n",
    "year_fraction   = YearFractionFactory.create_istance(day_count_basis.basis_lin_act_365)\n",
    "df              = 1.0 / ((1.0 + spot_rate / 365.0) **(year_fraction(today, fardate) * 365.0))\n",
    "dc              = DiscountCurve(today, [fardate], [df])\n",
    "\n",
    "# year fraction convention definition\n",
    "year_fraction   = YearFractionFactory.create_istance(day_count_basis.basis_lin_act_365)\n",
    "#\n",
    "# initial values\n",
    "#\n",
    "libor_schedule  = LiborScheduler(fixing_lag = 2, \n",
    "                                 day_count = day_count_basis.basis_lin_act_360, \n",
    "                                 start_adj = AdjustmentType.FOLLOWING, \n",
    "                                 end_adj = AdjustmentType.MODFOLLOWING, \n",
    "                                 end_to_end = True)\n",
    "\n",
    "libor_calc      = LiborForwardCalculator(dc, libor_schedule)\n",
    "libor_indx      = Libor(today, 0.0, '6m', libor_calc, 'EURIBOR 6M')\n",
    "#\n",
    "swap            = Swap(today, \n",
    "                       libor_indx, \n",
    "                       '5y', \n",
    "                       0.02, \n",
    "                       notional = 1000000, \n",
    "                       pay_fix = +1, \n",
    "                       pay_float = -1, \n",
    "                       float_tenor='6m', \n",
    "                       fixed_tenor='6m')\n",
    "        \n",
    "fixing_dates    = [f.fixing_date() for l in swap.legs() for f in l.flows() if f.index() != None]\n",
    "\n",
    "fixed_rates = []\n",
    "for f in fixing_dates:\n",
    "    fixed_rates.append(0.02)\n",
    "        \n",
    "table = Table1D(fixing_dates, fixed_rates)\n",
    "fixed = {'EURIBOR 6M':table}\n",
    "#\n",
    "# add fixing dates to simulation dates\n",
    "#        \n",
    "check_dates     = set(check_dates_test_3)\n",
    "check_dates.update(fixing_dates)\n",
    "check_dates     = sorted(check_dates)\n",
    "#\n",
    "# calculation of simulation times according to the year fraction convention chosen\n",
    "# \n",
    "check_times     = [year_fraction(today, d) for d in check_dates]\n",
    "check_times     = np.array(check_times)\n",
    "#\n",
    "#-------------------------------------------------------------------------------------------------------------------\n",
    "#\n",
    "sign        = -1\n",
    "S           = 0.05\n",
    "R           = 0.4\n",
    "CVA         = 0.0\n",
    "EPE         = [0]\n",
    "volatility  = 0.2\n",
    "for nT in xrange(1,len(check_times)):\n",
    "    result          = swap.price(fixed, dc, check_dates[nT])\n",
    "    annuity         = abs(result['annuity'])\n",
    "    price           = 0\n",
    "    if annuity != 0:\n",
    "        swap_rate       = abs(result['legs'][1] / annuity)\n",
    "        strike          = abs(result['legs'][0] / annuity)\n",
    "        time            = check_times[nT]\n",
    "        d1              = sign * d_j(1, swap_rate, strike, 0.0, volatility, time)\n",
    "        d2              = sign * d_j(2, swap_rate, strike, 0.0, volatility, time)\n",
    "        N1              = norm_cdf(d1)\n",
    "        N2              = norm_cdf(d2)\n",
    "        price           = sign * annuity * (swap_rate * N1 - strike * N2)\n",
    "        dp              = (exp(-S*check_times[nT-1]/(1.0-R))-exp(-S*check_times[nT]/(1.0-R)))    \n",
    "        CVA            += price * dp * (1 - R) \n",
    "    EPE.append(price)     \n",
    "    #print check_dates[nT],\";\",price"
   ]
  },
  {
   "cell_type": "code",
   "execution_count": 22,
   "metadata": {
    "collapsed": false
   },
   "outputs": [
    {
     "data": {
      "text/plain": [
       "[<matplotlib.lines.Line2D at 0x10d3f4450>]"
      ]
     },
     "execution_count": 22,
     "metadata": {},
     "output_type": "execute_result"
    },
    {
     "data": {
      "image/png": "[encoded data removed]",
      "text/plain": [
       "<matplotlib.figure.Figure at 0x10d27d090>"
      ]
     },
     "metadata": {},
     "output_type": "display_data"
    }
   ],
   "source": [
    "%matplotlib inline\n",
    "\n",
    "import matplotlib\n",
    "import matplotlib.pyplot as plt\n",
    "\n",
    "plt.title(\"cva profile of plain vanilla swap by swaption replica\")\n",
    "plt.plot(check_times,EPE)"
   ]
  },
  {
   "cell_type": "code",
   "execution_count": 23,
   "metadata": {
    "collapsed": true
   },
   "outputs": [],
   "source": [
    "# for further references\n",
    "EPE_Swaption = EPE"
   ]
  }
 ],
 "metadata": {
  "kernelspec": {
   "display_name": "Python 2",
   "language": "python",
   "name": "python2"
  },
  "language_info": {
   "codemirror_mode": {
    "name": "ipython",
    "version": 2
   },
   "file_extension": ".py",
   "mimetype": "text/x-python",
   "name": "python",
   "nbconvert_exporter": "python",
   "pygments_lexer": "ipython2",
   "version": "2.7.10"
  }
 },
 "nbformat": 4,
 "nbformat_minor": 0
}
