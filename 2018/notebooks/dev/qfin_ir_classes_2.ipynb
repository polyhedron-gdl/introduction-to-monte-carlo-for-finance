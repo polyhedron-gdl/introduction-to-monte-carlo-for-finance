{
 "cells": [
  {
   "cell_type": "code",
   "execution_count": 1,
   "metadata": {
    "collapsed": false
   },
   "outputs": [],
   "source": [
    "import re\n",
    "import datetime\n",
    "\n",
    "from qfin_calendar import *"
   ]
  },
  {
   "cell_type": "markdown",
   "metadata": {},
   "source": [
    "## Libor Calculation"
   ]
  },
  {
   "cell_type": "markdown",
   "metadata": {},
   "source": [
    "### Libor Scheduler"
   ]
  },
  {
   "cell_type": "markdown",
   "metadata": {},
   "source": [
    " This class contains some utility methods for LIBOR rate time handling on a generic time interval between two dates (conventionally called start and end). \n",
    " Constructor parameters:\n",
    " - param fixing_leg: days between fixing date and start accrual date\n",
    " - type fixing_leg:  datetime.date\n",
    " - param day_count:  convention for year fraction calculation\n",
    " - type day_count:   day_count_basis\n",
    " - param start_adj:  day adjustment convention for start date\n",
    " - type start_adj:   AdjustmentType  \n",
    " - param end_adj:    day adjustment convention for end date\n",
    " - type end_adj:     AdjustmentType \n",
    " - param end_to_end: day adjustment convention for end month dates\n",
    " - type end_to_end:  boolean \n"
   ]
  },
  {
   "cell_type": "code",
   "execution_count": 2,
   "metadata": {
    "collapsed": true
   },
   "outputs": [],
   "source": [
    "class LiborScheduler():\n",
    "   \n",
    "    def __init__(self, fixing_lag, day_count, start_adj, end_adj, end_to_end = False):\n",
    "        self.__fixing_lag        = fixing_lag\n",
    "        self.__delta_fixing_lag  = datetime.timedelta(days=fixing_lag)\n",
    "        self.__day_count         = day_count\n",
    "        self.__start_adj         = start_adj\n",
    "        self.__end_adj           = end_adj\n",
    "        self.__end_to_end        = end_to_end\n",
    "    \n",
    "    def dayCount(self):\n",
    "        return self.__day_count\n",
    "    \n",
    "    def fixingDate(self, startDate):\n",
    "        fixing = startDate\n",
    "        modifier = DayAdjustmentFactory.create_istance(self.__start_adj)\n",
    "        for i in range(self.__fixing_lag):\n",
    "            fixing = modifier(fixing - datetime.timedelta(days=1))\n",
    "        return fixing\n",
    "    \n",
    "    def startDate(self, fixing):\n",
    "        start    = fixing\n",
    "        modifier = DayAdjustmentFactory.create_istance(self.__start_adj)\n",
    "        for i in range(self.__fixing_lag):\n",
    "            start = modifier(start + datetime.timedelta(days=1))\n",
    "        return start\n",
    "        \n",
    "    def endDate(self, startDate, tenor):\n",
    "        modifier    = DayAdjustmentFactory.create_istance(self.__end_adj)\n",
    "        m           = re.match(\"([0-9]+)([a-zA-Z]+)\", tenor)\n",
    "        value, unit = int(m.group(1)), m.group(2) \n",
    "        end         = modifier(startDate + addTimeInterval(value, unit))\n",
    "        \n",
    "        if self.__end_to_end and startDate.day == giorni_mese[startDate.month - 1]:\n",
    "            end = datetime.date(end.year, end.month, last_month_day(end))\n",
    "        return end     \n"
   ]
  },
  {
   "cell_type": "markdown",
   "metadata": {},
   "source": [
    "## Forward Rate Calculator"
   ]
  },
  {
   "cell_type": "code",
   "execution_count": 3,
   "metadata": {
    "collapsed": true
   },
   "outputs": [],
   "source": [
    "class LiborForwardCalculator():\n",
    "    \n",
    "    def __init__(self, discount, libor_schedule):\n",
    "        self.__discount = discount\n",
    "        self.__schedule = libor_schedule\n",
    "        self.__scheduleDates = {}\n",
    "        self.__year_fraction   = YearFractionFactory.create_istance(self.__schedule.dayCount())\n",
    "        \n",
    "    def discount(self):\n",
    "        return self.__discount\n",
    "    \n",
    "    def daycount_convention(self):\n",
    "        return self.__schedule.dayCount()\n",
    "     \n",
    "    def __call__(self, fixing, tenor):\n",
    "        if fixing not in self.__scheduleDates:\n",
    "            startDate       = self.__schedule.startDate(fixing)\n",
    "            endDate         = self.__schedule.endDate(startDate, tenor)\n",
    "            tau             = self.__year_fraction(startDate, endDate)\n",
    "            self.__scheduleDates[fixing] = (startDate, endDate, tau)\n",
    "        else:\n",
    "            startDate, endDate, tau = self.__scheduleDates[fixing]\n",
    "        \n",
    "        dfStart         = self.__discount.df(startDate)\n",
    "        dfEnd           = self.__discount.df(endDate  ) \n",
    "        forward         = (dfStart/dfEnd - 1)/tau \n",
    "               \n",
    "        return forward"
   ]
  },
  {
   "cell_type": "markdown",
   "metadata": {},
   "source": [
    "## Libor Rate"
   ]
  },
  {
   "cell_type": "code",
   "execution_count": 4,
   "metadata": {
    "collapsed": true
   },
   "outputs": [],
   "source": [
    "class Libor(object):\n",
    "    def __init__(self, obsdate, spot, tenor, forward_calc = None, label = None):\n",
    "        self.__obsdate        = obsdate\n",
    "        self.__spot           = spot\n",
    "        self.__tenor          = tenor\n",
    "        self.__forward_calc   = forward_calc\n",
    "        self.__label          = label\n",
    "    \n",
    "    def daycount_convention(self):\n",
    "        if self.__forward_calc:\n",
    "            return self.__forward_calc.daycount_convention()\n",
    "    \n",
    "    def label(self):\n",
    "        return self.__label\n",
    "        \n",
    "    def spot(self):\n",
    "        \"\"\"\n",
    "        Return the spot of the Libor\n",
    "        \"\"\"\n",
    "        return self.__spot\n",
    "\n",
    "    def forwardCalc(self):\n",
    "        return self.__forward_calc\n",
    "\n",
    "    def forward(self, date):\n",
    "        if self.__forward_calc:\n",
    "            return self.__forward_calc(date, self.__tenor)\n",
    "        else:\n",
    "            return None   \n"
   ]
  },
  {
   "cell_type": "markdown",
   "metadata": {},
   "source": [
    "## Discount Curve Class"
   ]
  },
  {
   "cell_type": "markdown",
   "metadata": {},
   "source": [
    "We want to create the DiscountCurve class with that will compute $df(t, T)$ where:\n",
    "- t is the \"today\" (the so called observation date) and T a generic maturity\n",
    "- obsdate: the date at which the curve refers to (i.e. today)\n",
    "- pillars: a list of dates at which the discount factor is known\n",
    "- dfs: the known discount factors"
   ]
  },
  {
   "cell_type": "code",
   "execution_count": 5,
   "metadata": {
    "collapsed": true
   },
   "outputs": [],
   "source": [
    "# numpy is a numerical package\n",
    "# (package is the pythonic name for library, which actually is nothing else than a directory containing python files)\n",
    "import numpy\n",
    "\n",
    "# to represent dates we use the date class from the package datetime\n",
    "from datetime import date\n",
    "\n",
    "# math is mathematical package\n",
    "import math\n",
    "\n",
    "class DiscountCurve:\n",
    "    def __init__(self, obsdate, pillars, dfs):\n",
    "        # the following generates an error that will block the program\n",
    "        if pillars[0] < obsdate:\n",
    "            raise \"today is greater than the first pillar date\"\n",
    "        \n",
    "        # we want to make sure that the first pillar is the observation date and its discount factor is 1.0\n",
    "        # therefore we add it if not present in the original lists\n",
    "        if pillars[0] > obsdate:\n",
    "            pillars.insert(0, obsdate)\n",
    "            dfs.insert(0, 1.0)\n",
    "\n",
    "        # store the input variables\n",
    "        self.today = obsdate\n",
    "        self.pillars = pillars\n",
    "        self.dfs = dfs\n",
    "\n",
    "        # dates must be converted to numbers, otherwise the interpolation function will not work\n",
    "        self.pillars_number = [aDate.toordinal() for aDate in pillars]\n",
    "\n",
    "        # we will linearly interpolate on the logarithm of the discount factors\n",
    "        self.logdfs = [math.log(df) for df in dfs]\n",
    "\n",
    "    def df(self, aDate):\n",
    "        # we convert the date to a number\n",
    "        date_number = aDate.toordinal()\n",
    "\n",
    "        # we use the linear interpolator of the numpy library\n",
    "        log_df = numpy.interp(date_number, self.pillars_number, self.logdfs)\n",
    "\n",
    "        #we  will have to the take the exponential beacuse we interpolated the logarithms\n",
    "        df = math.exp(log_df)\n",
    "\n",
    "        # return the resulting discount factor\n",
    "        return df\n",
    "    \n",
    "    def obsdate(self):\n",
    "        return self.today"
   ]
  },
  {
   "cell_type": "code",
   "execution_count": null,
   "metadata": {
    "collapsed": true
   },
   "outputs": [],
   "source": [
    "def extends(klass):\n",
    "    def decorator(func):\n",
    "        setattr(klass, func.__name__, func)\n",
    "        return func\n",
    "    return decorator"
   ]
  },
  {
   "cell_type": "markdown",
   "metadata": {},
   "source": [
    "### IR Stream Class"
   ]
  },
  {
   "cell_type": "code",
   "execution_count": null,
   "metadata": {
    "collapsed": true
   },
   "outputs": [],
   "source": [
    "from enum import Enum\n",
    "\n",
    "class flow_type(Enum):\n",
    "    fixed       = \"fixed\"\n",
    "    floating    = \"floating\"\n",
    "    notional    = \"notional\"\n",
    "\n",
    "class flow(object):\n",
    "    def __init__(self\n",
    "             , this_type\n",
    "             , index                    #None for fixed flows \n",
    "             , leverage\n",
    "             , coupon                   #the margin in case of a floating flow\n",
    "             , payment_date\n",
    "             , fixing_date        \n",
    "             , start_date\n",
    "             , end_date\n",
    "             , notional                 # the notional on which the flow amount is computed\n",
    "             , daycount_convention\n",
    "             ):\n",
    "        self.__type                     = this_type\n",
    "        self.__index                    = index\n",
    "        self.__leverage                 = leverage\n",
    "        self.__coupon                   = coupon\n",
    "        self.__payment_date             = payment_date\n",
    "        self.__fixing_date              = fixing_date\n",
    "        self.__start_date               = start_date\n",
    "        self.__end_date                 = end_date\n",
    "        self.__notional                 = notional\n",
    "        self.__daycount_convention      = daycount_convention\n",
    " \n",
    "        if self.__type == flow_type.fixed:\n",
    "            year_fraction = YearFractionFactory.create_istance(self.__daycount_convention)\n",
    "        if self.__type == flow_type.floating:\n",
    "            year_fraction = YearFractionFactory.create_istance(self.__index.daycount_convention())\n",
    "        if self.__type == flow_type.notional:\n",
    "            year_fraction = YearFractionFactory.create_istance(day_count_basis.basis_lin_30360)    \n",
    "        self.__tau = year_fraction(self.__start_date, self.__end_date)\n",
    "        self.__npv  = 0.0\n",
    "    \n",
    "    def index(self):                    return self.__index\n",
    "    def fixing_date(self):              return self.__fixing_date\n",
    "    def payment_date(self):             return self.__payment_date\n",
    "    def this_type(self):                return self.__type\n",
    "    def leverage(self):                 return self.__leverage\n",
    "    def start_date(self):               return self.__start_date\n",
    "    def end_date(self):                 return self.__end_date\n",
    "    def tau(self):                      return self.__tau\n",
    "    def notional(self):                 return self.__notional\n",
    "    \n",
    "    def value(self, obsdate, fixed):\n",
    "        if self.__type == flow_type.notional:\n",
    "            return self.__importo\n",
    "        else:    \n",
    "            return self.__notional * self.__tau * self.rate(obsdate, fixed)\n",
    "    \n",
    "    def rate(self, obsdate, fixed = None):\n",
    "        try:\n",
    "            table = fixed[self.__index.label()]\n",
    "        except:                \n",
    "            table = None\n",
    "        \n",
    "        floater, coupon  = 0, 0\n",
    "        if self.__index:\n",
    "            if self.__fixing_date > obsdate:\n",
    "                floater = self.__index.forward(self.__fixing_date)\n",
    "            else:\n",
    "                if self.__fixing_date == obsdate and not fixed:\n",
    "                    floater = self.__index.forward(self.__fixing_date)\n",
    "                else:\n",
    "                    if table:\n",
    "                        floater = table(self.__fixing_date)\n",
    "                    else:\n",
    "                        floater = 0.0       \n",
    "        else:\n",
    "            coupon = self.__coupon   \n",
    "        return self.__leverage * floater + coupon \n"
   ]
  },
  {
   "cell_type": "markdown",
   "metadata": {},
   "source": [
    "### Leg Class"
   ]
  },
  {
   "cell_type": "code",
   "execution_count": null,
   "metadata": {
    "collapsed": true
   },
   "outputs": [],
   "source": [
    "class leg(object):\n",
    "    def __init__(self\n",
    "                , flows\n",
    "                , pay_or_receive\n",
    "                , currency\n",
    "                , payment_frequency     = None\n",
    "                , calculation_frequency = None\n",
    "                , payoff                = None\n",
    "               ):\n",
    "        \n",
    "        self.__flows                    = flows\n",
    "        self.__pay_or_receive           = pay_or_receive\n",
    "        self.__currency                 = currency\n",
    "        self.__payment_frequency        = payment_frequency\n",
    "        self.__calculation_frequency    = calculation_frequency\n",
    "        self.__payoff                   = payoff\n",
    "       \n",
    "    def flow(self, index):              return self.__flows[index]\n",
    "    def flows(self):                    return self.__flows\n",
    "    def pay_receive(self):              return self.__pay_or_receive\n",
    "    def has_payoff(self):               return self.__payoff <> None\n",
    "    def currency(self):                 return self.__currency\n",
    "    \n",
    "    def flowsCount(self):\n",
    "        return len(self.__flows)    \n",
    "\n",
    "    def payoff(self):\n",
    "        if self.__payoff == None:\n",
    "            raise RuntimeError, \"Null payoff\"\n",
    "        return self.__payoff\n"
   ]
  },
  {
   "cell_type": "markdown",
   "metadata": {},
   "source": [
    "### Swap Class"
   ]
  },
  {
   "cell_type": "code",
   "execution_count": null,
   "metadata": {
    "collapsed": true
   },
   "outputs": [],
   "source": [
    "class Swap():\n",
    "    def __init__(self, \n",
    "                 today, \n",
    "                 underlying, \n",
    "                 maturity, \n",
    "                 coupon, \n",
    "                 notional = 1000000, \n",
    "                 pay_fix = +1, \n",
    "                 pay_float = -1, \n",
    "                 float_tenor = '6m', \n",
    "                 fixed_tenor='1y', \n",
    "                 floatscheduler = None, \n",
    "                 fixscheduler = None):\n",
    "        \n",
    "        if floatscheduler == None:\n",
    "            self.__floatscheduler = SimpleScheduler(fixing_lag = 2, \n",
    "                                                    tenor = float_tenor, \n",
    "                                                    dayadjustment = AdjustmentType.MODFOLLOWING, \n",
    "                                                    daycount = day_count_basis.basis_lin_act_360)\n",
    "        else:\n",
    "            self.__floatscheduler = floatscheduler\n",
    "        if fixscheduler == None:\n",
    "            self.__fixscheduler = SimpleScheduler(fixing_lag =2, \n",
    "                                                  tenor = fixed_tenor, \n",
    "                                                  dayadjustment = AdjustmentType.MODFOLLOWING, \n",
    "                                                  daycount = day_count_basis.basis_lin_s30360)\n",
    "        else:\n",
    "            self.__fixscheduler = fixscheduler\n",
    "        \n",
    "        floatscheduler      = self.__floatscheduler\n",
    "        fixscheduler        = self.__fixscheduler\n",
    "        \n",
    "        floatstartdate      = floatscheduler.scheduleDate(today)\n",
    "        floatdates          = floatscheduler.scheduleDates(floatstartdate, maturity)\n",
    "        floatstartdates     = floatdates[0:len(floatdates)-1]\n",
    "        floatenddates       = floatdates[1:len(floatdates)]\n",
    "        floatfixingdates    = []\n",
    "        \n",
    "        for startflowdate in floatstartdates:\n",
    "            floatfixingdates.append(floatscheduler.fixingDate(startflowdate))\n",
    "        floatpaymentdates = floatenddates\n",
    "\n",
    "        fixstartdate    = fixscheduler.scheduleDate(today)\n",
    "        fixdates        = fixscheduler.scheduleDates(fixstartdate, maturity)\n",
    "        fixstartdates   = fixdates[0:len(fixdates)-1]\n",
    "        fixenddates     = fixdates[1:len(fixdates)]\n",
    "        fixpaymentdates = fixenddates\n",
    "        \n",
    "        floatflows = []\n",
    "        for i in range(len(floatstartdates)):\n",
    "            f = flow(this_type              = flow_type.floating\n",
    "                    , index                 = underlying \n",
    "                    , leverage              = 1.\n",
    "                    , coupon                = 0.\n",
    "                    , payment_date          = floatpaymentdates[i]\n",
    "                    , fixing_date           = floatfixingdates[i]        \n",
    "                    , start_date            = floatstartdates[i]\n",
    "                    , end_date              = floatenddates[i]\n",
    "                    , notional              = notional\n",
    "                    , daycount_convention   = day_count_basis.basis_lin_act_360\n",
    "                    )\n",
    "            floatflows.append(f)\n",
    "\n",
    "        fixflows = []\n",
    "        for i in range(len(fixstartdates)):\n",
    "            f = flow(this_type              = flow_type.fixed\n",
    "                    , index                 = None \n",
    "                    , leverage              = 1.\n",
    "                    , coupon                = coupon\n",
    "                    , payment_date          = fixpaymentdates[i]\n",
    "                    , fixing_date           = None        \n",
    "                    , start_date            = fixstartdates[i]\n",
    "                    , end_date              = fixenddates[i]\n",
    "                    , notional              = notional\n",
    "                    , daycount_convention   = day_count_basis.basis_lin_30360\n",
    "                    )\n",
    "            fixflows.append(f)\n",
    "        \n",
    "        floatleg    = leg(floatflows, pay_float, None)\n",
    "        fixleg      = leg(fixflows, pay_fix, None)\n",
    "      \n",
    "        self.__leg_1 = floatleg\n",
    "        self.__leg_2 = fixleg\n",
    "        return None\n",
    "       \n",
    "    def legs(self):\n",
    "        return self.__leg_1, self.__leg_2   \n",
    "    \n"
   ]
  },
  {
   "cell_type": "code",
   "execution_count": null,
   "metadata": {
    "collapsed": true
   },
   "outputs": [],
   "source": [
    "@extends(Swap)\n",
    "\n",
    "def price(self, fixed, discount_curve, evaluation_date = None):\n",
    "    res             = {}\n",
    "    flows           = []\n",
    "    npv, annuity    = 0.0, 0.0\n",
    "    legvalue        = [0, 0] \n",
    "    j, k            = 0, 0\n",
    "    try:\n",
    "        dc       = discount_curve\n",
    "        df       = dc.df\n",
    "        obsdate  = evaluation_date\n",
    "        if obsdate == None: obsdate  = dc.obsdate()      \n",
    "        k = 0\n",
    "        for l in self.legs():\n",
    "            leg_npv, f_value, j = 0.0, 0.0, 0\n",
    "            for f in l.flows():\n",
    "                flow  = {}\n",
    "                payment_date = f.payment_date()\n",
    "                #print '-----> leg #%s (%s)- flow #%s, date %s - obs date %s'%(k, str(f.this_type()), str(j), payment_date, obsdate)\n",
    "                if payment_date > obsdate:\n",
    "                    f_discf = df(payment_date)\n",
    "                    f_flow  = f.value(obsdate, fixed)    \n",
    "                    f_value = f_discf * f_flow * f.leverage()    \n",
    "                    leg_npv += f_value\n",
    "                    if f.index() == None: annuity += f_discf * f.tau() * f.notional()\n",
    "                    j+=1\n",
    "                    flow['leg']          = k    \n",
    "                    flow['payment date'] = payment_date\n",
    "                    flow['start date']   = f.start_date()\n",
    "                    flow['end date']     = f.end_date()\n",
    "                    flow['fixing date']  = f.fixing_date()\n",
    "                    flow['flow']         = f_flow\n",
    "                    flow['npv']          = f_value\n",
    "                    flow['discount']     = f_discf\n",
    "                    flows.append(flow)\n",
    "                        \n",
    "            legvalue[k] = l.pay_receive() * leg_npv\n",
    "            npv += legvalue[k]\n",
    "            k+=1\n",
    "\n",
    "    except Exception, e:\n",
    "        print '-----> ERRORE - Flusso %s - Leg %s - Error %s' % (str(j), str(k), e.__str__())\n",
    "            \n",
    "    finally:    \n",
    "        res['npv']      = npv\n",
    "        res['legs']     = legvalue\n",
    "        res['flows']    = flows    \n",
    "        res['annuity']  = annuity\n",
    "            \n",
    "    return res"
   ]
  },
  {
   "cell_type": "code",
   "execution_count": 8,
   "metadata": {
    "collapsed": false
   },
   "outputs": [
    {
     "name": "stdout",
     "output_type": "stream",
     "text": [
      "module qfin_ir_classes imported\n"
     ]
    }
   ],
   "source": [
    "print \"module qfin_ir_classes imported\""
   ]
  }
 ],
 "metadata": {
  "kernelspec": {
   "display_name": "Python 2",
   "language": "python",
   "name": "python2"
  },
  "language_info": {
   "codemirror_mode": {
    "name": "ipython",
    "version": 2
   },
   "file_extension": ".py",
   "mimetype": "text/x-python",
   "name": "python",
   "nbconvert_exporter": "python",
   "pygments_lexer": "ipython2",
   "version": "2.7.10"
  }
 },
 "nbformat": 4,
 "nbformat_minor": 0
}
