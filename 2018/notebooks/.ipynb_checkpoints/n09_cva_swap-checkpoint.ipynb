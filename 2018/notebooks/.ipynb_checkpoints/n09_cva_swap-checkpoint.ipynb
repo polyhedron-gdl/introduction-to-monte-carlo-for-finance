{
 "cells": [
  {
   "cell_type": "markdown",
   "metadata": {},
   "source": [
    "# Counterparty Credit Valuation Adjustment (CVA)\n",
    "\n",
    "### Exposure Profile"
   ]
  },
  {
   "cell_type": "markdown",
   "metadata": {},
   "source": [
    "Uncertain future exposure can be visualized by means of exposure profiles. These profiles are obtained by calculating certain statistics of the exposure distribution at each simulation date. \n",
    "There are two main effect that determine the credit exposure over time for a single transaction or for a portfolio of transactions with the same counterparty: diffusion and amortization. As time passes, the \"diffusion effect\" tends to increase the exposure, since there is greater potential for market price factors (such as the FX or interest rates) to move significantly away from current levels; the \"amortization effect\", in contrast, thends to decrease the exposure over time, because it reduces the remaining cash flows that are exposed to default.\n",
    "These two effects acts in opposite directions (the diffusion effect increase the credit exposure and the amortization effect decreases it over time). For single cash products, such as FX forward, the potential exposure peaks at the maturity of the transaction, because it is driven purely by diffusion effect. On the other hand for products with multiple cash flows, such as interest rate swaps, the potential exposure usually peack at one-third to one-half of the way into the life of the transaction."
   ]
  },
  {
   "cell_type": "markdown",
   "metadata": {},
   "source": [
    "### The General Unilateral Counterparty Risk  Pricing Formula "
   ]
  },
  {
   "cell_type": "markdown",
   "metadata": {},
   "source": [
    "(from D. Brigo, Morini M. and Pallavicini A., \"Counterparty Credit Risk, Collateral and Funding\" Wiley Finance 2013)"
   ]
  },
  {
   "cell_type": "markdown",
   "metadata": {},
   "source": [
    "At valuation time $t$, and provided the counterparty has not defaulted before $t$, i.e. on $\\{ \\tau > t \\}$, the price of our payoff with maturity $T$ under counterparty risk is\n",
    "\n",
    "$$\n",
    "\\begin{align}\n",
    "\\mathbb{E}_t [\\bar \\Pi (t, T) ] &=  \\mathbb{E}_t [\\Pi (t, T) ]  - \n",
    "\\underbrace{\n",
    "\\mathbb{E}_t [ LGD \\> \\mathbb{1}_{t \\le \\tau \\le T} D(t, \\tau) (NPV(\\tau))^+ ]  \n",
    "}_\\text{positive counterparty-risk adjustment} \\\\\n",
    "&= \\mathbb{E}_t [\\Pi (t, T) ]  - U_{CVA}(t,T)\n",
    "\\end{align}\n",
    "$$\n",
    "\n",
    "with\n",
    "\n",
    "$$\n",
    "\\begin{align}\n",
    "U_{CVA}(t,T) &= \\mathbb{E}_t [ LGD \\> \\mathbb{1}_{t \\le \\tau \\le T} D(t, \\tau) (NPV(\\tau))^+ ] \\\\\n",
    "&= \\mathbb{E}_t [ LGD \\> \\mathbb{1}_{t \\le \\tau \\le T} D(t, \\tau) EAD ]\n",
    "\\end{align}\n",
    "$$\n",
    "\n",
    "Where $LGD = 1 - REC$ is the loss given default, and the recovery fraction $REC$ is assumed to be deterministic. \n",
    "\n",
    "It is clear that the value of a defaultable claim is the sum of the value of the corresponding default-free claim minus a positive adjustment. The positive adjustment to be subtracted is called (Unilateral) Credit Valuation Adjustment (CVA), and it is given by a call option (with zero strike) on the residual NPV at default, giving nonzero contribution only in scenario where $\\tau \\le T$.\n",
    "\n",
    "Counterparty risk thus adds and optionality level to the original payoff. This renders the counterparty risk payoff model dependent even when the original payoff is model independent. This implies, for example, that while the valuation of swaps without counterparty risk is model independent, requiring no dynamical model for the term structure (no volatility and correlations in particular), the valuation of swaps under counterpaty risk will require and interest rate model. "
   ]
  },
  {
   "cell_type": "markdown",
   "metadata": {
    "collapsed": true
   },
   "source": [
    "### Counterparty Risk in Single IRS"
   ]
  },
  {
   "cell_type": "markdown",
   "metadata": {
    "collapsed": true
   },
   "source": [
    "In this section we explore the well known result that the component of the IRS price due to counterparty risk is the sum of swaption prices with different maturities, each weighted with the probability of defaulting around that maturity. Let us suppose that we are a default free counterparty \"B\" entering a payer swap with a defaultable counterparty \"C\", exchanging fixed for floating payments at times $T_{a+1},\\dots,T_b$. Denote by $\\beta_i$ the year fraction between $T_{i-1}$ and $T_i$, and by $P(t, T_i)$ the default-free zero coupon bond price at time $t$ for maturity $T_i$. We take a unit notional on the swap. The contract requires us to pay a fixed rate $K$ and to receive the floating rate $L$ resetting one period earlier until the default time $\\tau$ of \"B\" or until final maturity $T$ if $\\tau > T$. The fair forward-swap rate $K$ at a given time $t$ in a default-free market is the one which renders the swap zero-valued in $t$. \n",
    "\n",
    "In the risk-free case the discounted payoff for a payer IRS is\n",
    "\n",
    "\\begin{equation}\n",
    "\\sum\\limits_{i=a+1}^b  D(t,T_i) \\beta_i (L(T_{i-1},T_i) -K)\n",
    "\\end{equation}\n",
    "\n",
    "and the forward swap rate rendering the contract fair is\n",
    "\n",
    "$$\n",
    "K=S(t; T_a,T_b) = S_{a,b} (t) = \\frac{P(t,T_a) - P(t,T_b)}{\\sum\\limits_{i=a+1}^b  P(t,T_i) \\beta_i}\n",
    "$$\n",
    "\n",
    "Of course if we consider the possibility that \"C\" may default, the correct spread to be paid in the fixed leg is lower as we are willing to be rewarded for bearing this default risk. In particular we have\n",
    "\n",
    "$$\n",
    "\\begin{align}\n",
    "U_{CVA}(t,T_b) &= LGD \\> \\mathbb{E}_t [ \\mathbb{1}_{\\tau \\le T_b} D(t,\\tau) (NPV(\\tau))^+ ] \\\\\n",
    "&= LGD \\> \\int\\limits_{T_a}^{T_b} PS \\left( t;s,T_b,K,S(t;s,T_b), \\sigma_{s,T_b} \\right) \\> d_s \\mathbb{Q} \\{\\tau \\le s \\}\n",
    "\\end{align}\n",
    "$$\n",
    "\n",
    "being $PS \\left( t;s,T_b,K,S(t;s,T_b), \\sigma_{s,T_b} \\right) $ the price in $t$ of a swaption with maturity $s$, strike $K$ underlying forward swap rate $S(t;s,T_b)$, volatility $\\sigma_{s,T_b}$ and underlying swap with final maturity $T_b$.\n",
    "\n",
    "The proof is the following: given independence between $\\tau$ and the interest rates, and given that the residual NPV is a forward start IRS starting at the default time, the option on the residual NPV is a sum of swaptions with maturities ranging the possible values of the default time, each weighted (thanks to the independence assumption) by the probabilities of defaulting around each time value. We can simplify formulas allow the default to happen only at points $T_i$ of the fixed leg payment grid. In this way the expected loss part is simplified. Indeed in the case of postponed (default occour to the first $T_i$ following $\\tau$) payoff we obtain:\n",
    "\n",
    "$$\n",
    "\\begin{align}\n",
    "U_{CVA}(t,T_b) &= LGD \\> \\mathbb{E}_t [ \\mathbb{1}_{\\tau \\le T_b} D(t,\\tau) (NPV(\\tau))^+ ] \\\\\n",
    "&= LGD \\> \\sum\\limits_{i=a+1}^{b-1} PS \\left( t;s,T_b,K,S(t;s,T_b), \\sigma_{s,T_b} \\right) \n",
    "\\> \\left( \\mathbb{Q} \\{\\tau \\ge T_i \\} - \\mathbb{Q} \\{\\tau > T_i \\} \\right)\n",
    "\\end{align}\n",
    "$$\n"
   ]
  },
  {
   "cell_type": "markdown",
   "metadata": {
    "collapsed": true
   },
   "source": [
    "### Calculating CVA for a PV Swap via Swaption Replica: the Python Program "
   ]
  },
  {
   "cell_type": "code",
   "execution_count": 1,
   "metadata": {
    "collapsed": false
   },
   "outputs": [
    {
     "name": "stdout",
     "output_type": "stream",
     "text": [
      "module qfin_ir_classes imported\n"
     ]
    }
   ],
   "source": [
    "import re\n",
    "import datetime\n",
    "\n",
    "from qfin_calendar    import *\n",
    "from qfin_ir_classes  import *\n",
    "from qfin_pocket      import *\n",
    "from test_market_data import *"
   ]
  },
  {
   "cell_type": "markdown",
   "metadata": {},
   "source": [
    "Some auxiliary functions for Swaption pricing"
   ]
  },
  {
   "cell_type": "code",
   "execution_count": 2,
   "metadata": {
    "collapsed": true
   },
   "outputs": [],
   "source": [
    "from math import sqrt, exp, log, pi, sqrt\n",
    "\n",
    "def norm_cdf(x):\n",
    "    \"\"\"An approximation to the cumulative distribution function for the standard normal distribution:\n",
    "    N(x) = \\frac{1}{sqrt(2*\\pi)} \\int^x_{-\\infty} e^{-\\frac{1}{2}s^2} ds\"\"\"\n",
    "    k = 1.0/(1.0+0.2316419*x)\n",
    "    k_sum = k*(0.319381530 + k*(-0.356563782 + k*(1.781477937 + k*(-1.821255978 + 1.330274429*k))))\n",
    "   \n",
    "    if x >= 0.0:\n",
    "        return (1.0 - (1.0/((2*pi)**0.5))*exp(-0.5*x*x) * k_sum)\n",
    "    else:\n",
    "        return 1.0 - norm_cdf(-x)\n",
    "    \n",
    "def d_j(j, S, K, r, v, T):\n",
    "    \"\"\"d_j = \\frac{log(\\frac{S}{K})+(r+(-1)^{j-1} \\frac{1}{2}v^2)T}{v sqrt(T)}\"\"\"\n",
    "    return (log(S/K) + (r + ((-1)**(j-1))*0.5*v*v)*T)/(v*(T**0.5))\n"
   ]
  },
  {
   "cell_type": "markdown",
   "metadata": {},
   "source": [
    "For our example portfolio we'll take one interest rate swap EUR 1MM notional receiving 2% every 6m, TARGET calendar, with 5 years maturity. We'll take also a 2% flat forward yield curve."
   ]
  },
  {
   "cell_type": "code",
   "execution_count": 3,
   "metadata": {
    "collapsed": false
   },
   "outputs": [],
   "source": [
    "# example data\n",
    "today           = datetime.date(2014,10,24)\n",
    "spot_rate       = 0.02   # starting value for short rate\n",
    "\n",
    "swap_maturity   = '5y'\n",
    "swap_strike     = 0.2\n",
    "swap_flt_tenor  = '6m'\n",
    "swap_fix_tenor  = '6m'\n",
    "fardate         = today + addTimeInterval(10, 'y')\n",
    "year_fraction   = YearFractionFactory.create_istance(day_count_basis.basis_lin_act_365)\n",
    "df              = 1.0 / ((1.0 + spot_rate / 365.0) **(year_fraction(today, fardate) * 365.0))\n",
    "dc              = DiscountCurve(today, [fardate], [df])\n",
    "\n",
    "# year fraction convention definition\n",
    "year_fraction   = YearFractionFactory.create_istance(day_count_basis.basis_lin_act_365)\n",
    "#\n",
    "# initial values\n",
    "#\n",
    "libor_schedule  = LiborScheduler(fixing_lag = 2, \n",
    "                                 day_count = day_count_basis.basis_lin_act_360, \n",
    "                                 start_adj = AdjustmentType.FOLLOWING, \n",
    "                                 end_adj = AdjustmentType.MODFOLLOWING, \n",
    "                                 end_to_end = True)\n",
    "\n",
    "libor_calc      = LiborForwardCalculator(dc, libor_schedule)\n",
    "libor_indx      = Libor(today, 0.0, '6m', libor_calc, 'EURIBOR 6M')\n",
    "#\n",
    "swap            = Swap(today, \n",
    "                       libor_indx, \n",
    "                       '5y', \n",
    "                       0.02, \n",
    "                       notional = 1000000, \n",
    "                       pay_fix = +1, \n",
    "                       pay_float = -1, \n",
    "                       float_tenor='6m', \n",
    "                       fixed_tenor='6m')\n",
    "        \n",
    "fixing_dates    = [f.fixing_date() for l in swap.legs() for f in l.flows() if f.index() != None]\n",
    "\n",
    "fixed_rates = []\n",
    "for f in fixing_dates:\n",
    "    fixed_rates.append(0.02)\n",
    "        \n",
    "table = Table1D(fixing_dates, fixed_rates)\n",
    "fixed = {'EURIBOR 6M':table}\n",
    "#\n",
    "# add fixing dates to simulation dates\n",
    "#        \n",
    "check_dates     = set(check_dates_test_3)\n",
    "check_dates.update(fixing_dates)\n",
    "check_dates     = sorted(check_dates)\n",
    "#\n",
    "# calculation of simulation times according to the year fraction convention chosen\n",
    "# \n",
    "check_times     = [year_fraction(today, d) for d in check_dates]\n",
    "check_times     = np.array(check_times)\n",
    "#\n",
    "#-------------------------------------------------------------------------------------------------------------------\n",
    "#\n",
    "sign        = -1\n",
    "S           = 0.05\n",
    "R           = 0.4\n",
    "CVA         = 0.0\n",
    "EPE         = [0]\n",
    "volatility  = 0.2\n",
    "for nT in xrange(1,len(check_times)):\n",
    "    result          = swap.price(fixed, dc, check_dates[nT])\n",
    "    annuity         = abs(result['annuity'])\n",
    "    price           = 0\n",
    "    if annuity != 0:\n",
    "        swap_rate       = abs(result['legs'][1] / annuity)\n",
    "        strike          = abs(result['legs'][0] / annuity)\n",
    "        time            = check_times[nT]\n",
    "        d1              = sign * d_j(1, swap_rate, strike, 0.0, volatility, time)\n",
    "        d2              = sign * d_j(2, swap_rate, strike, 0.0, volatility, time)\n",
    "        N1              = norm_cdf(d1)\n",
    "        N2              = norm_cdf(d2)\n",
    "        price           = sign * annuity * (swap_rate * N1 - strike * N2)\n",
    "        dp              = (exp(-S*check_times[nT-1]/(1.0-R))-exp(-S*check_times[nT]/(1.0-R)))    \n",
    "        CVA            += price * dp * (1 - R) \n",
    "    EPE.append(price)     "
   ]
  },
  {
   "cell_type": "markdown",
   "metadata": {},
   "source": [
    "Finally we plot the profile"
   ]
  },
  {
   "cell_type": "code",
   "execution_count": 4,
   "metadata": {
    "collapsed": false
   },
   "outputs": [
    {
     "data": {
      "text/plain": [
       "[<matplotlib.lines.Line2D at 0x8a45048>]"
      ]
     },
     "execution_count": 4,
     "metadata": {},
     "output_type": "execute_result"
    },
    {
     "data": {
      "image/png": "[encoded data removed]",
      "text/plain": [
       "<matplotlib.figure.Figure at 0x664f160>"
      ]
     },
     "metadata": {},
     "output_type": "display_data"
    }
   ],
   "source": [
    "%matplotlib inline\n",
    "\n",
    "import matplotlib\n",
    "import matplotlib.pyplot as plt\n",
    "\n",
    "plt.figure(figsize=(15,5))\n",
    "plt.title(\"cva profile of plain vanilla swap by swaption replica\")\n",
    "plt.plot(check_times,EPE)"
   ]
  },
  {
   "cell_type": "code",
   "execution_count": 5,
   "metadata": {
    "collapsed": true
   },
   "outputs": [],
   "source": [
    "# for references in the mcs notebook\n",
    "EPE_Swaption = EPE"
   ]
  }
 ],
 "metadata": {
  "kernelspec": {
   "display_name": "Python 2",
   "language": "python",
   "name": "python2"
  },
  "language_info": {
   "codemirror_mode": {
    "name": "ipython",
    "version": 2
   },
   "file_extension": ".py",
   "mimetype": "text/x-python",
   "name": "python",
   "nbconvert_exporter": "python",
   "pygments_lexer": "ipython2",
   "version": "2.7.13"
  }
 },
 "nbformat": 4,
 "nbformat_minor": 0
}
